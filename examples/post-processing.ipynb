{
 "cells": [
  {
   "cell_type": "markdown",
   "id": "158c0340-1d00-4bf8-8cdc-beb02c4598d0",
   "metadata": {},
   "source": [
    "# Post-processing segmentation results"
   ]
  },
  {
   "cell_type": "code",
   "execution_count": null,
   "id": "bab6a761-5240-4cf8-ba1a-bb693582a1c4",
   "metadata": {},
   "outputs": [],
   "source": []
  }
 ],
 "metadata": {
  "kernelspec": {
   "display_name": "Python 3 (ipykernel)",
   "language": "python",
   "name": "python3"
  },
  "language_info": {
   "codemirror_mode": {
    "name": "ipython",
    "version": 3
   },
   "file_extension": ".py",
   "mimetype": "text/x-python",
   "name": "python",
   "nbconvert_exporter": "python",
   "pygments_lexer": "ipython3",
   "version": "3.8.12"
  }
 },
 "nbformat": 4,
 "nbformat_minor": 5
}
