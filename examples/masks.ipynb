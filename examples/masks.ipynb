{
 "cells": [
  {
   "cell_type": "markdown",
   "id": "c4db57a8-db5f-4fe3-ba3f-97252496592a",
   "metadata": {},
   "source": [
    "# Generating masks"
   ]
  },
  {
   "cell_type": "code",
   "execution_count": null,
   "id": "fd1fb9f7-2970-4519-93b6-9e93124f4386",
   "metadata": {},
   "outputs": [],
   "source": []
  }
 ],
 "metadata": {
  "kernelspec": {
   "display_name": "Python 3 (ipykernel)",
   "language": "python",
   "name": "python3"
  },
  "language_info": {
   "codemirror_mode": {
    "name": "ipython",
    "version": 3
   },
   "file_extension": ".py",
   "mimetype": "text/x-python",
   "name": "python",
   "nbconvert_exporter": "python",
   "pygments_lexer": "ipython3",
   "version": "3.8.12"
  }
 },
 "nbformat": 4,
 "nbformat_minor": 5
}
