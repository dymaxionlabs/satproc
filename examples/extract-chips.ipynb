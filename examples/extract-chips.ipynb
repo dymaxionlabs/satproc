{
 "cells": [
  {
   "cell_type": "markdown",
   "id": "72e1ecfe-d3cf-4596-9d5a-aebaed9f5c52",
   "metadata": {},
   "source": [
    "# Extract chips from images\n",
    "\n",
    "To do..."
   ]
  },
  {
   "cell_type": "code",
   "execution_count": 1,
   "id": "251bb942-7dbc-4d22-b996-934051ebbba3",
   "metadata": {},
   "outputs": [
    {
     "name": "stdout",
     "output_type": "stream",
     "text": [
      "usage: satproc_extract_chips [-h] [--size SIZE] [--step-size STEP_SIZE]\n",
      "                             [--sliding-windows-mode {exact,whole,whole_overlap}]\n",
      "                             [--labels LABELS]\n",
      "                             [--label-property LABEL_PROPERTY]\n",
      "                             [--classes CLASSES [CLASSES ...]]\n",
      "                             [--masks {extent,boundary,distance} [{extent,boundary,distance} ...]]\n",
      "                             [--mask-type {single,class,instance}] [--aoi AOI]\n",
      "                             [--within] [--no-within] [-o OUTPUT_DIR]\n",
      "                             [--rescale] [--no-rescale]\n",
      "                             [--rescale-mode {percentiles,values,s2_rgb_extra}]\n",
      "                             [--lower-cut LOWER_CUT] [--upper-cut UPPER_CUT]\n",
      "                             [--min MIN] [--max MAX] [-b BANDS [BANDS ...]]\n",
      "                             [-t {jpg,tif}] [--write-footprints]\n",
      "                             [--no-write-footprints] [--crs CRS]\n",
      "                             [--skip-existing] [--no-skip-existing]\n",
      "                             [--skip-low-contrast] [--no-skip-low-contrast]\n",
      "                             [--extent-no-border] [--version] [-v] [-vv]\n",
      "                             raster [raster ...]\n",
      "\n",
      "Extract chips from a raster file, and optionally generate mask chips\n",
      "\n",
      "positional arguments:\n",
      "  raster                input raster file(s)\n",
      "\n",
      "optional arguments:\n",
      "  -h, --help            show this help message and exit\n",
      "  --size SIZE           size of image tiles, in pixels (default: 256)\n",
      "  --step-size STEP_SIZE\n",
      "                        step size (i.e. stride), in pixels (default: 128)\n",
      "  --sliding-windows-mode {exact,whole,whole_overlap}\n",
      "                        mode of sliding windows (default: whole_overlap)\n",
      "  --labels LABELS       inpul label shapefile (default: None)\n",
      "  --label-property LABEL_PROPERTY\n",
      "                        label property to separate in classes (default: class)\n",
      "  --classes CLASSES [CLASSES ...]\n",
      "                        specify classes order in result mask. (default: None)\n",
      "  --masks {extent,boundary,distance} [{extent,boundary,distance} ...], -m {extent,boundary,distance} [{extent,boundary,distance} ...]\n",
      "  --mask-type {single,class,instance}\n",
      "  --aoi AOI             Filter by AOI vector file (default: None)\n",
      "  --within              only create chip is it is within AOI (if provided)\n",
      "                        (default: False)\n",
      "  --no-within           create chip if it intersects with AOI (if provided)\n",
      "                        (default: False)\n",
      "  -o OUTPUT_DIR, --output-dir OUTPUT_DIR\n",
      "                        output dir (default: .)\n",
      "  --rescale             rescale intensity using percentiles (lower/upper cuts)\n",
      "                        (default: False)\n",
      "  --no-rescale          do not rescale intensity (default: True)\n",
      "  --rescale-mode {percentiles,values,s2_rgb_extra}\n",
      "                        choose mode of intensity rescaling (default:\n",
      "                        percentiles)\n",
      "  --lower-cut LOWER_CUT\n",
      "                        (for 'percentiles' mode) lower cut of percentiles for\n",
      "                        cumulative count in intensity rescaling (default: 2)\n",
      "  --upper-cut UPPER_CUT\n",
      "                        (for 'percentiles' mode) upper cut of percentiles for\n",
      "                        cumulative count in intensity rescaling (default: 98)\n",
      "  --min MIN             (for 'values' mode) minimum value in intensity\n",
      "                        rescaling (default: None)\n",
      "  --max MAX             (for 'values' mode) maximum value in intensity\n",
      "                        rescaling (default: None)\n",
      "  -b BANDS [BANDS ...], --bands BANDS [BANDS ...]\n",
      "                        specify band indexes. If type is 'jpg', defaults to\n",
      "                        (1, 2, 3). If type is 'tif', defaults to the total\n",
      "                        band count. (default: None)\n",
      "  -t {jpg,tif}, --type {jpg,tif}\n",
      "                        output chip format (default: tif)\n",
      "  --write-footprints    write a GeoJSON file of chip footprints (default:\n",
      "                        False)\n",
      "  --no-write-footprints\n",
      "                        do not write a GeoJSON file of chip footprints\n",
      "                        (default: True)\n",
      "  --crs CRS             force CRS of input files (default: None)\n",
      "  --skip-existing       skip already existing chips (and masks) (default:\n",
      "                        True)\n",
      "  --no-skip-existing    do not skip already existing chips (and masks)\n",
      "                        (default: True)\n",
      "  --skip-low-contrast   skip image chips with low contrast (default: False)\n",
      "  --no-skip-low-contrast\n",
      "                        do not skip image chips with low contrast (default:\n",
      "                        True)\n",
      "  --extent-no-border    do not include border in extent mask (default: False)\n",
      "  --version             show program's version number and exit\n",
      "  -v, --verbose         set loglevel to INFO (default: None)\n",
      "  -vv, --very-verbose   set loglevel to DEBUG (default: None)\n"
     ]
    }
   ],
   "source": [
    "!satproc_extract_chips -h"
   ]
  },
  {
   "cell_type": "code",
   "execution_count": null,
   "id": "ca595c71-23bc-4065-b2c9-762777b0a119",
   "metadata": {},
   "outputs": [],
   "source": []
  }
 ],
 "metadata": {
  "kernelspec": {
   "display_name": "Python 3 (ipykernel)",
   "language": "python",
   "name": "python3"
  },
  "language_info": {
   "codemirror_mode": {
    "name": "ipython",
    "version": 3
   },
   "file_extension": ".py",
   "mimetype": "text/x-python",
   "name": "python",
   "nbconvert_exporter": "python",
   "pygments_lexer": "ipython3",
   "version": "3.8.12"
  }
 },
 "nbformat": 4,
 "nbformat_minor": 5
}
